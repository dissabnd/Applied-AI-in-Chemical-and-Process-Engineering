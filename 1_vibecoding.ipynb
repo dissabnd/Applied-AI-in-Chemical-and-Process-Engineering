{
 "cells": [
  {
   "cell_type": "markdown",
   "metadata": {
    "id": "biNn2f-fllo3"
   },
   "source": [
    "# Applied AI in Chemical and Process Engineering\n",
    "\n",
    "# Vibe Coding\n",
    "\n",
    "This is a notebook to familarize with vibe coding.\n",
    "\n",
    "**Background:**\n",
    "Vibe coding is an AI-assisted software development style where developers use large language models (LLMs) to generate code through natural language prompts. It focuses on rapid, creative prototyping, with the developer and LLM collaborating like pair programmers. Emphasizing flow over precision, it accepts AI-generated code with minimal review, ideal for quick experiments but risky for production due to potential bugs and lack of deep understanding.\n",
    "\n",
    "**Tools:**\n",
    "- Any LLM (ChatGPT/Grok/DeepSeek)\n",
    "- Colab (Gemini backend)\n",
    "- Windsurf/Cursor\n",
    "\n",
    "\n",
    "---------------------------------------------------------------\n"
   ]
  },
  {
   "cell_type": "markdown",
   "metadata": {},
   "source": [
    "# Example 1\n",
    "Let's complete below task using your favorite LLM/IDE/Notebook.\n",
    "*We will do this in Colab but you are free to use any other method including local Python/Notebook.*\n",
    "\n",
    "**Prompt:**\n",
    "\n",
    "- Create a random x dataset x with 100 datapoints\n",
    "- Create y dataset following y=3x+25 with random noise\n",
    "- Plot x,y distribution with histogram plot in two subplots\n",
    "- Show the relationship between x and y in a scatter plot with a regression line (regplot)\n"
   ]
  },
  {
   "cell_type": "code",
   "execution_count": null,
   "metadata": {},
   "outputs": [],
   "source": []
  },
  {
   "cell_type": "markdown",
   "metadata": {},
   "source": [
    "**Prompt:**\n",
    "\n",
    "Generate linear regression model, calcualte RMSE, R2. Print linear regression equation, R2 and RMSE\n"
   ]
  },
  {
   "cell_type": "code",
   "execution_count": null,
   "metadata": {},
   "outputs": [],
   "source": []
  }
 ],
 "metadata": {
  "anaconda-cloud": {},
  "colab": {
   "provenance": [],
   "toc_visible": true
  },
  "jupytext": {
   "formats": "ipynb,md"
  },
  "kernelspec": {
   "display_name": "Python 3 (ipykernel)",
   "language": "python",
   "name": "python3"
  },
  "language_info": {
   "codemirror_mode": {
    "name": "ipython",
    "version": 3
   },
   "file_extension": ".py",
   "mimetype": "text/x-python",
   "name": "python",
   "nbconvert_exporter": "python",
   "pygments_lexer": "ipython3",
   "version": "3.12.11"
  },
  "vscode": {
   "interpreter": {
    "hash": "513788764cd0ec0f97313d5418a13e1ea666d16d72f976a8acadce25a5af2ffc"
   }
  }
 },
 "nbformat": 4,
 "nbformat_minor": 4
}
